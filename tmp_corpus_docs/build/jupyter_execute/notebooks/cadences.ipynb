{
 "cells": [
  {
   "cell_type": "markdown",
   "id": "1e0bfc31",
   "metadata": {},
   "source": [
    "# Cadences"
   ]
  },
  {
   "cell_type": "code",
   "execution_count": 1,
   "id": "4f896116",
   "metadata": {
    "mystnb": {
     "code_prompt_hide": "Hide imports",
     "code_prompt_show": "Show imports"
    },
    "tags": [
     "hide-cell"
    ]
   },
   "outputs": [],
   "source": [
    "%load_ext autoreload\n",
    "%autoreload 2\n",
    "import os\n",
    "from collections import Counter, defaultdict\n",
    "\n",
    "import dimcat as dc\n",
    "import ms3\n",
    "import pandas as pd\n",
    "import plotly.express as px\n",
    "from dimcat import plotting\n",
    "from dimcat.steps import filters, groupers, slicers\n",
    "\n",
    "import utils"
   ]
  },
  {
   "cell_type": "code",
   "execution_count": 2,
   "id": "f4baba33",
   "metadata": {
    "tags": [
     "hide-input"
    ]
   },
   "outputs": [],
   "source": [
    "RESULTS_PATH = os.path.abspath(os.path.join(utils.OUTPUT_FOLDER, \"cadences\"))\n",
    "os.makedirs(RESULTS_PATH, exist_ok=True)\n",
    "\n",
    "\n",
    "def make_output_path(\n",
    "    filename: str,\n",
    "    extension=None,\n",
    "    path=RESULTS_PATH,\n",
    ") -> str:\n",
    "    return utils.make_output_path(filename=filename, extension=extension, path=path)\n",
    "\n",
    "\n",
    "def save_figure_as(\n",
    "    fig, filename, formats=(\"png\", \"pdf\"), directory=RESULTS_PATH, **kwargs\n",
    "):\n",
    "    if formats is not None:\n",
    "        for fmt in formats:\n",
    "            plotting.write_image(fig, filename, directory, format=fmt, **kwargs)\n",
    "    else:\n",
    "        plotting.write_image(fig, filename, directory, **kwargs)"
   ]
  },
  {
   "cell_type": "markdown",
   "id": "665d55e0",
   "metadata": {},
   "source": [
    "**Loading data**"
   ]
  },
  {
   "cell_type": "code",
   "execution_count": 3,
   "id": "582d38cf",
   "metadata": {
    "editable": true,
    "slideshow": {
     "slide_type": ""
    },
    "tags": [
     "hide-input"
    ]
   },
   "outputs": [
    {
     "name": "stdout",
     "output_type": "stream",
     "text": [
      "Data and software versions\n",
      "--------------------------\n",
      "\n",
      "Richard Wagner – Overtures version v2.6\n",
      "Datapackage 'wagner_overtures' @ v2.6\n",
      "dimcat version 3.2.0.post1.dev10+g77a5adf.d20240927\n",
      "\n"
     ]
    },
    {
     "data": {
      "text/plain": [
       "Dataset\n",
       "=======\n",
       "{'inputs': {'basepath': None,\n",
       "            'packages': {'wagner_overtures': [\"'wagner_overtures.measures' (MuseScoreMeasures)\",\n",
       "                                              \"'wagner_overtures.notes' (MuseScoreNotes)\",\n",
       "                                              \"'wagner_overtures.expanded' (MuseScoreHarmonies)\",\n",
       "                                              \"'wagner_overtures.chords' (MuseScoreChords)\",\n",
       "                                              \"'wagner_overtures.metadata' (Metadata)\"]}},\n",
       " 'outputs': {'basepath': None, 'packages': {}},\n",
       " 'pipeline': []}"
      ]
     },
     "execution_count": 3,
     "metadata": {},
     "output_type": "execute_result"
    }
   ],
   "source": [
    "D = utils.get_dataset(\"wagner_overtures\", corpus_release=\"v2.6\")\n",
    "package = D.inputs.get_package()\n",
    "package_info = package._package.custom\n",
    "git_tag = package_info.get(\"git_tag\")\n",
    "utils.print_heading(\"Data and software versions\")\n",
    "print(\"Richard Wagner – Overtures version v2.6\")\n",
    "print(f\"Datapackage '{package.package_name}' @ {git_tag}\")\n",
    "print(f\"dimcat version {dc.__version__}\\n\")\n",
    "D"
   ]
  },
  {
   "cell_type": "code",
   "execution_count": 4,
   "id": "5639a701",
   "metadata": {},
   "outputs": [
    {
     "ename": "ValueError",
     "evalue": "Corpus has no cadence annotations.",
     "output_type": "error",
     "traceback": [
      "\u001b[0;31m---------------------------------------------------------------------------\u001b[0m",
      "\u001b[0;31mRuntimeError\u001b[0m                              Traceback (most recent call last)",
      "Cell \u001b[0;32mIn[4], line 2\u001b[0m\n\u001b[1;32m      1\u001b[0m \u001b[38;5;28;01mtry\u001b[39;00m:\n\u001b[0;32m----> 2\u001b[0m     cadence_labels \u001b[38;5;241m=\u001b[39m \u001b[43mD\u001b[49m\u001b[38;5;241;43m.\u001b[39;49m\u001b[43mget_feature\u001b[49m\u001b[43m(\u001b[49m\u001b[38;5;124;43m\"\u001b[39;49m\u001b[38;5;124;43mcadencelabels\u001b[39;49m\u001b[38;5;124;43m\"\u001b[39;49m\u001b[43m)\u001b[49m\n\u001b[1;32m      3\u001b[0m \u001b[38;5;28;01mexcept\u001b[39;00m \u001b[38;5;167;01mException\u001b[39;00m:\n",
      "File \u001b[0;32m~/git/dimcat/src/dimcat/data/datasets/base.py:314\u001b[0m, in \u001b[0;36mDataset.get_feature\u001b[0;34m(self, feature)\u001b[0m\n\u001b[1;32m    313\u001b[0m     \u001b[38;5;28;01mpass\u001b[39;00m\n\u001b[0;32m--> 314\u001b[0m \u001b[38;5;28;01mreturn\u001b[39;00m \u001b[38;5;28;43mself\u001b[39;49m\u001b[38;5;241;43m.\u001b[39;49m\u001b[43mextract_feature\u001b[49m\u001b[43m(\u001b[49m\u001b[43mfeature_config\u001b[49m\u001b[43m)\u001b[49m\n",
      "File \u001b[0;32m~/git/dimcat/src/dimcat/data/datasets/base.py:290\u001b[0m, in \u001b[0;36mDataset.extract_feature\u001b[0;34m(self, feature, ignore_exceptions)\u001b[0m\n\u001b[1;32m    289\u001b[0m feature_extractor \u001b[38;5;241m=\u001b[39m Constructor(feature_config)\n\u001b[0;32m--> 290\u001b[0m extracted \u001b[38;5;241m=\u001b[39m \u001b[38;5;28;43mself\u001b[39;49m\u001b[38;5;241;43m.\u001b[39;49m\u001b[43m_extract_feature\u001b[49m\u001b[43m(\u001b[49m\n\u001b[1;32m    291\u001b[0m \u001b[43m    \u001b[49m\u001b[43mfeature_config\u001b[49m\u001b[43m,\u001b[49m\u001b[43m \u001b[49m\u001b[43mignore_exceptions\u001b[49m\u001b[38;5;241;43m=\u001b[39;49m\u001b[43mignore_exceptions\u001b[49m\n\u001b[1;32m    292\u001b[0m \u001b[43m\u001b[49m\u001b[43m)\u001b[49m\n\u001b[1;32m    293\u001b[0m \u001b[38;5;28mself\u001b[39m\u001b[38;5;241m.\u001b[39madd_output(resource\u001b[38;5;241m=\u001b[39mextracted, package_name\u001b[38;5;241m=\u001b[39m\u001b[38;5;124m\"\u001b[39m\u001b[38;5;124mfeatures\u001b[39m\u001b[38;5;124m\"\u001b[39m)\n",
      "File \u001b[0;32m~/git/dimcat/src/dimcat/data/datasets/base.py:259\u001b[0m, in \u001b[0;36mDataset._extract_feature\u001b[0;34m(self, feature_config, ignore_exceptions)\u001b[0m\n\u001b[1;32m    249\u001b[0m \u001b[38;5;250m\u001b[39m\u001b[38;5;124;03m\"\"\"Extracts a feature from the Dataset's input catalog, sends it through its pipeline and returns the result,\u001b[39;00m\n\u001b[1;32m    250\u001b[0m \u001b[38;5;124;03mwithout storing it.\u001b[39;00m\n\u001b[1;32m    251\u001b[0m \n\u001b[0;32m   (...)\u001b[0m\n\u001b[1;32m    257\u001b[0m \u001b[38;5;124;03m        extracted feature, ignoring the fact that not all PipelineSteps may have been applied to it.\u001b[39;00m\n\u001b[1;32m    258\u001b[0m \u001b[38;5;124;03m\"\"\"\u001b[39;00m\n\u001b[0;32m--> 259\u001b[0m extracted \u001b[38;5;241m=\u001b[39m \u001b[38;5;28;43mself\u001b[39;49m\u001b[38;5;241;43m.\u001b[39;49m\u001b[43minputs\u001b[49m\u001b[38;5;241;43m.\u001b[39;49m\u001b[43mextract_feature\u001b[49m\u001b[43m(\u001b[49m\u001b[43mfeature_config\u001b[49m\u001b[43m)\u001b[49m\n\u001b[1;32m    260\u001b[0m \u001b[38;5;28;01mif\u001b[39;00m \u001b[38;5;28mlen\u001b[39m(\u001b[38;5;28mself\u001b[39m\u001b[38;5;241m.\u001b[39m_pipeline) \u001b[38;5;241m==\u001b[39m \u001b[38;5;241m0\u001b[39m:\n",
      "File \u001b[0;32m~/git/dimcat/src/dimcat/data/catalogs/inputs.py:18\u001b[0m, in \u001b[0;36mInputsCatalog.extract_feature\u001b[0;34m(self, feature)\u001b[0m\n\u001b[1;32m     17\u001b[0m package \u001b[38;5;241m=\u001b[39m \u001b[38;5;28mself\u001b[39m\u001b[38;5;241m.\u001b[39mget_package()\n\u001b[0;32m---> 18\u001b[0m \u001b[38;5;28;01mreturn\u001b[39;00m \u001b[43mpackage\u001b[49m\u001b[38;5;241;43m.\u001b[39;49m\u001b[43mextract_feature\u001b[49m\u001b[43m(\u001b[49m\u001b[43mfeature\u001b[49m\u001b[43m)\u001b[49m\n",
      "File \u001b[0;32m~/git/dimcat/src/dimcat/data/packages/base.py:1047\u001b[0m, in \u001b[0;36mPackage.extract_feature\u001b[0;34m(self, feature)\u001b[0m\n\u001b[1;32m   1046\u001b[0m selected_facet \u001b[38;5;241m=\u001b[39m candidate_facets[\u001b[38;5;241m0\u001b[39m]\n\u001b[0;32m-> 1047\u001b[0m \u001b[38;5;28;01mreturn\u001b[39;00m \u001b[43mselected_facet\u001b[49m\u001b[38;5;241;43m.\u001b[39;49m\u001b[43m_extract_feature\u001b[49m\u001b[43m(\u001b[49m\u001b[43mfeature_config\u001b[49m\u001b[43m)\u001b[49m\n",
      "File \u001b[0;32m~/git/dimcat/src/dimcat/data/resources/dc.py:985\u001b[0m, in \u001b[0;36mDimcatResource._extract_feature\u001b[0;34m(self, feature_config, new_name)\u001b[0m\n\u001b[1;32m    984\u001b[0m len_before \u001b[38;5;241m=\u001b[39m \u001b[38;5;28mlen\u001b[39m(feature_df)\n\u001b[0;32m--> 985\u001b[0m feature_df \u001b[38;5;241m=\u001b[39m \u001b[38;5;28;43mself\u001b[39;49m\u001b[38;5;241;43m.\u001b[39;49m\u001b[43m_transform_df_for_extraction\u001b[49m\u001b[43m(\u001b[49m\u001b[43mfeature_df\u001b[49m\u001b[43m,\u001b[49m\u001b[43m \u001b[49m\u001b[43mfeature_config\u001b[49m\u001b[43m)\u001b[49m\n\u001b[1;32m    986\u001b[0m init_args \u001b[38;5;241m=\u001b[39m \u001b[38;5;28mdict\u001b[39m(\n\u001b[1;32m    987\u001b[0m     resource_name\u001b[38;5;241m=\u001b[39mnew_name,\n\u001b[1;32m    988\u001b[0m )\n",
      "File \u001b[0;32m~/git/dimcat/src/dimcat/data/resources/facets.py:808\u001b[0m, in \u001b[0;36mMuseScoreHarmonies._transform_df_for_extraction\u001b[0;34m(self, feature_df, feature_config)\u001b[0m\n\u001b[1;32m    807\u001b[0m \u001b[38;5;28;01mif\u001b[39;00m \u001b[38;5;28missubclass\u001b[39m(\u001b[38;5;28mcls\u001b[39m, CadenceLabels):\n\u001b[0;32m--> 808\u001b[0m     feature_df \u001b[38;5;241m=\u001b[39m \u001b[43mdrop_rows_with_missing_values\u001b[49m\u001b[43m(\u001b[49m\n\u001b[1;32m    809\u001b[0m \u001b[43m        \u001b[49m\u001b[43mfeature_df\u001b[49m\u001b[43m,\u001b[49m\u001b[43m \u001b[49m\u001b[43mfeature_column_names\u001b[49m\u001b[43m,\u001b[49m\u001b[43m \u001b[49m\u001b[43mlogger\u001b[49m\u001b[38;5;241;43m=\u001b[39;49m\u001b[38;5;28;43mself\u001b[39;49m\u001b[38;5;241;43m.\u001b[39;49m\u001b[43mlogger\u001b[49m\n\u001b[1;32m    810\u001b[0m \u001b[43m    \u001b[49m\u001b[43m)\u001b[49m\n\u001b[1;32m    811\u001b[0m     feature_df \u001b[38;5;241m=\u001b[39m extend_cadence_feature(feature_df)\n",
      "File \u001b[0;32m~/git/dimcat/src/dimcat/data/resources/utils.py:435\u001b[0m, in \u001b[0;36mdrop_rows_with_missing_values\u001b[0;34m(df, column_names, how, logger)\u001b[0m\n\u001b[1;32m    434\u001b[0m \u001b[38;5;28;01mif\u001b[39;00m drop_mask\u001b[38;5;241m.\u001b[39mall():\n\u001b[0;32m--> 435\u001b[0m     \u001b[38;5;28;01mraise\u001b[39;00m \u001b[38;5;167;01mRuntimeError\u001b[39;00m(\n\u001b[1;32m    436\u001b[0m         \u001b[38;5;124mf\u001b[39m\u001b[38;5;124m\"\u001b[39m\u001b[38;5;124mThe dataframe contains no fully defined objects based on the \u001b[39m\u001b[38;5;124m\"\u001b[39m\n\u001b[1;32m    437\u001b[0m         \u001b[38;5;124mf\u001b[39m\u001b[38;5;124m\"\u001b[39m\u001b[38;5;124mcolumns \u001b[39m\u001b[38;5;132;01m{\u001b[39;00mcolumn_names\u001b[38;5;132;01m}\u001b[39;00m\u001b[38;5;124m.\u001b[39m\u001b[38;5;124m\"\u001b[39m\n\u001b[1;32m    438\u001b[0m     )\n\u001b[1;32m    439\u001b[0m n_dropped \u001b[38;5;241m=\u001b[39m drop_mask\u001b[38;5;241m.\u001b[39msum()\n",
      "\u001b[0;31mRuntimeError\u001b[0m: The dataframe contains no fully defined objects based on the columns ['cadence'].",
      "\nDuring handling of the above exception, another exception occurred:\n",
      "\u001b[0;31mValueError\u001b[0m                                Traceback (most recent call last)",
      "Cell \u001b[0;32mIn[4], line 4\u001b[0m\n\u001b[1;32m      2\u001b[0m     cadence_labels \u001b[38;5;241m=\u001b[39m D\u001b[38;5;241m.\u001b[39mget_feature(\u001b[38;5;124m\"\u001b[39m\u001b[38;5;124mcadencelabels\u001b[39m\u001b[38;5;124m\"\u001b[39m)\n\u001b[1;32m      3\u001b[0m \u001b[38;5;28;01mexcept\u001b[39;00m \u001b[38;5;167;01mException\u001b[39;00m:\n\u001b[0;32m----> 4\u001b[0m     \u001b[38;5;28;01mraise\u001b[39;00m \u001b[38;5;167;01mValueError\u001b[39;00m(\u001b[38;5;124m\"\u001b[39m\u001b[38;5;124mCorpus has no cadence annotations.\u001b[39m\u001b[38;5;124m\"\u001b[39m)\n\u001b[1;32m      5\u001b[0m cadence_labels\n",
      "\u001b[0;31mValueError\u001b[0m: Corpus has no cadence annotations."
     ]
    }
   ],
   "source": [
    "try:\n",
    "    cadence_labels = D.get_feature(\"cadencelabels\")\n",
    "except Exception:\n",
    "    raise ValueError(\"Corpus has no cadence annotations.\")\n",
    "cadence_labels"
   ]
  },
  {
   "cell_type": "code",
   "execution_count": null,
   "id": "61d9f7e7",
   "metadata": {},
   "outputs": [],
   "source": [
    "cadence_labels.plot_grouped(\n",
    "    title=\"Distribution of cadence types over the DLC\",\n",
    "    output=make_output_path(\"all_cadences_pie\"),\n",
    "    width=1000,\n",
    "    height=1000,\n",
    ")"
   ]
  },
  {
   "cell_type": "markdown",
   "id": "cc4c24ae",
   "metadata": {},
   "source": [
    "### Metadata"
   ]
  },
  {
   "cell_type": "code",
   "execution_count": null,
   "id": "4dd83c3b",
   "metadata": {},
   "outputs": [],
   "source": [
    "cadence_filter = filters.HasCadenceAnnotationsFilter()\n",
    "filtered_D = cadence_filter.process(D)"
   ]
  },
  {
   "cell_type": "code",
   "execution_count": null,
   "id": "467b28e8",
   "metadata": {},
   "outputs": [],
   "source": [
    "hascadence_metadata = filtered_D.get_metadata()\n",
    "chronological_corpus_names = hascadence_metadata.get_corpus_names()"
   ]
  },
  {
   "cell_type": "code",
   "execution_count": null,
   "id": "682610c1",
   "metadata": {},
   "outputs": [],
   "source": [
    "cadence_counts = cadence_labels.apply_step(\"Counter\")\n",
    "cadence_counts.plot_grouped(\"corpus\")"
   ]
  },
  {
   "cell_type": "code",
   "execution_count": null,
   "id": "ea95968e",
   "metadata": {},
   "outputs": [],
   "source": [
    "mean_composition_years = (\n",
    "    hascadence_metadata.groupby(level=0).composed_end.mean().astype(int).sort_values()\n",
    ")\n",
    "chronological_corpus_names = hascadence_metadata.get_corpus_names()\n",
    "bar_data = pd.concat(\n",
    "    [\n",
    "        mean_composition_years.rename(\"year\"),\n",
    "        hascadence_metadata.groupby(level=\"corpus\").size().rename(\"pieces\"),\n",
    "    ],\n",
    "    axis=1,\n",
    ").reset_index()\n",
    "fig = px.bar(\n",
    "    bar_data,\n",
    "    x=\"year\",\n",
    "    y=\"pieces\",\n",
    "    color=\"corpus\",\n",
    "    title=\"Pieces contained in the dataset\",\n",
    ")\n",
    "fig.update_traces(width=5)"
   ]
  },
  {
   "cell_type": "markdown",
   "id": "5e72eef4",
   "metadata": {},
   "source": [
    "## Overall\n",
    "\n",
    "* **PAC**: Perfect Authentic Cadence\n",
    "* **IAC**: Imperfect Authentic Cadence\n",
    "* **HC**: Half Cadence\n",
    "* **DC**: Deceptive Cadence\n",
    "* **EC**: Evaded Cadence\n",
    "* **PC**: Plagal Cadence"
   ]
  },
  {
   "cell_type": "code",
   "execution_count": null,
   "id": "143224b7",
   "metadata": {},
   "outputs": [],
   "source": [
    "print(f\"{len(cadence_labels)} cadence labels.\")\n",
    "utils.value_count_df(cadence_labels.cadence)"
   ]
  },
  {
   "cell_type": "raw",
   "id": "710ab649",
   "metadata": {},
   "source": [
    "fig = px.pie(\n",
    "    all_labels[all_labels.cadence.notna()],\n",
    "    title=\"Distribution of cadence types over the DLC\",\n",
    "    names=\"cadence\",\n",
    "    color=\"cadence\",\n",
    "    color_discrete_map=CADENCE_COLORS\n",
    ")\n",
    "fig.update_layout(**STD_LAYOUT,)\n",
    "fig.update_traces(\n",
    "  textposition='auto',\n",
    "  textinfo='percent+label',\n",
    "  textfont_size=30\n",
    ")\n",
    "save_figure_as(fig, 'all_cadences_pie', width=1000, height=1000)\n",
    "fig.show()"
   ]
  },
  {
   "cell_type": "markdown",
   "id": "c850dcf1",
   "metadata": {},
   "source": [
    "## Per dataset"
   ]
  },
  {
   "cell_type": "code",
   "execution_count": null,
   "id": "350d453b",
   "metadata": {},
   "outputs": [],
   "source": [
    "all_labels = D.get_feature(\"harmonylabels\")\n",
    "cadence_count_per_dataset = all_labels.groupby(\"corpus\").cadence.value_counts()\n",
    "cadence_fraction_per_dataset = (\n",
    "    cadence_count_per_dataset / cadence_count_per_dataset.groupby(level=0).sum()\n",
    ")\n",
    "cadence_fraction_per_dataset = cadence_fraction_per_dataset.rename(\n",
    "    \"fraction\"\n",
    ").reset_index()\n",
    "cadence_fraction_per_dataset[\"corpus_name\"] = cadence_fraction_per_dataset.corpus.map(\n",
    "    utils.get_corpus_display_name\n",
    ")\n",
    "fig = px.bar(\n",
    "    cadence_fraction_per_dataset,\n",
    "    x=\"corpus_name\",\n",
    "    y=\"fraction\",\n",
    "    title=\"Distribution of cadence types per corpus\",\n",
    "    color=\"cadence\",\n",
    "    color_discrete_map=plotting.CADENCE_COLORS,\n",
    "    labels=dict(corpus_name=\"\", fraction=\"Fraction of all cadences\"),\n",
    "    category_orders=dict(corpus_name=chronological_corpus_names),\n",
    ")\n",
    "fig.update_layout(**utils.STD_LAYOUT)\n",
    "save_figure_as(fig, \"all_cadences_corpuswise_stacked_bars\", height=1000)\n",
    "fig.show()"
   ]
  },
  {
   "cell_type": "code",
   "execution_count": null,
   "id": "aa825c8d",
   "metadata": {},
   "outputs": [],
   "source": [
    "fig = px.pie(\n",
    "    cadence_count_per_dataset.rename(\"count\").reset_index(),\n",
    "    names=\"cadence\",\n",
    "    color=\"cadence\",\n",
    "    values=\"count\",\n",
    "    facet_col=\"corpus\",\n",
    "    facet_col_wrap=4,\n",
    "    height=2000,\n",
    "    color_discrete_map=plotting.CADENCE_COLORS,\n",
    ")\n",
    "fig.for_each_annotation(lambda a: a.update(text=a.text.split(\"=\")[-1]))\n",
    "fig.update_layout(**utils.STD_LAYOUT)\n",
    "save_figure_as(fig, \"all_cadences_corpuswise_pies\")\n",
    "fig.show()"
   ]
  },
  {
   "cell_type": "code",
   "execution_count": null,
   "id": "376ef488",
   "metadata": {},
   "outputs": [],
   "source": [
    "cadence_count_per_mode = (\n",
    "    all_labels.groupby(\"localkey_is_minor\").cadence.value_counts().reset_index()\n",
    ")\n",
    "cadence_count_per_mode[\"mode\"] = cadence_count_per_mode.localkey_is_minor.map(\n",
    "    {False: \"major\", True: \"minor\"}\n",
    ")\n",
    "fig = px.pie(\n",
    "    cadence_count_per_mode,\n",
    "    names=\"cadence\",\n",
    "    color=\"cadence\",\n",
    "    values=\"count\",\n",
    "    facet_col=\"mode\",\n",
    "    height=2000,\n",
    "    color_discrete_map=plotting.CADENCE_COLORS,\n",
    ")\n",
    "fig.for_each_annotation(lambda a: a.update(text=a.text.split(\"=\")[-1]))\n",
    "fig.update_layout(**utils.STD_LAYOUT)\n",
    "save_figure_as(fig, \"all_cadences_modewise_pies\")\n",
    "fig.show()"
   ]
  },
  {
   "cell_type": "code",
   "execution_count": null,
   "id": "3f332b9c",
   "metadata": {},
   "outputs": [],
   "source": [
    "corelli = dc.Dataset()\n",
    "CORELLI_PATH = os.path.abspath(os.path.join(\"..\", \"corelli\"))\n",
    "corelli.load(directory=CORELLI_PATH, parse_tsv=False)\n",
    "annotated_view = corelli.data.get_view(\"annotated\")\n",
    "annotated_view.include(\"facets\", \"expanded\")\n",
    "annotated_view.pieces_with_incomplete_facets = False\n",
    "corelli.data.set_view(annotated_view)\n",
    "corelli.data.parse_tsv(choose=\"auto\")\n",
    "corelli.get_indices()\n",
    "corelli_labels = corelli.get_facet(\"expanded\")\n",
    "corelli_cadence_count_per_mode = (\n",
    "    corelli_labels.groupby(\"localkey_is_minor\").cadence.value_counts().reset_index()\n",
    ")\n",
    "corelli_cadence_count_per_mode[\"mode\"] = (\n",
    "    corelli_cadence_count_per_mode.localkey_is_minor.map(\n",
    "        {False: \"major\", True: \"minor\"}\n",
    "    )\n",
    ")\n",
    "fig = px.pie(\n",
    "    corelli_cadence_count_per_mode,\n",
    "    names=\"cadence\",\n",
    "    color=\"cadence\",\n",
    "    values=\"count\",\n",
    "    facet_col=\"mode\",\n",
    "    height=2000,\n",
    "    color_discrete_map=plotting.CADENCE_COLORS,\n",
    ")\n",
    "fig.for_each_annotation(lambda a: a.update(text=a.text.split(\"=\")[-1]))\n",
    "fig.update_layout(**utils.STD_LAYOUT)\n",
    "save_figure_as(fig, \"all_corelli_cadences_modewise_pies\")\n",
    "fig.show()"
   ]
  },
  {
   "cell_type": "code",
   "execution_count": null,
   "id": "c3f678d3",
   "metadata": {},
   "outputs": [],
   "source": [
    "combined_cadences = pd.concat(\n",
    "    [cadence_count_per_mode, corelli_cadence_count_per_mode],\n",
    "    keys=[\"couperin\", \"corelli\"],\n",
    "    names=[\"corpus\", None],\n",
    ").reset_index(level=0)\n",
    "fig = px.pie(\n",
    "    combined_cadences,\n",
    "    names=\"cadence\",\n",
    "    color=\"cadence\",\n",
    "    values=\"count\",\n",
    "    facet_col=\"mode\",\n",
    "    facet_row=\"corpus\",\n",
    "    height=2000,\n",
    "    color_discrete_map=plotting.CADENCE_COLORS,\n",
    ")\n",
    "fig.for_each_annotation(lambda a: a.update(text=a.text.split(\"=\")[-1]))\n",
    "updated_layout = dict(utils.STD_LAYOUT, font=dict(size=40))\n",
    "fig.update_layout(**updated_layout)\n",
    "save_figure_as(fig, \"couperin_corelli_cadences_modewise_pies\")\n",
    "fig.show()"
   ]
  },
  {
   "cell_type": "markdown",
   "id": "4e1b95f3",
   "metadata": {},
   "source": [
    "## Per phrase\n",
    "### Number of cadences per phrase"
   ]
  },
  {
   "cell_type": "code",
   "execution_count": null,
   "id": "a16d36ad",
   "metadata": {},
   "outputs": [],
   "source": [
    "grouped_by_corpus = groupers.CorpusGrouper().process(D)\n",
    "segmented = slicers.PhraseSlicer().process_data(grouped_by_corpus)\n",
    "phrases = segmented.get_slice_info()\n",
    "phrase_segments = segmented.get_facet(\"expanded\")\n",
    "phrase_gpb = phrase_segments.groupby(level=[0, 1, 2])\n",
    "local_keys_per_phrase = phrase_gpb.localkey.unique().map(tuple)\n",
    "n_local_keys_per_phrase = local_keys_per_phrase.map(len)\n",
    "phrases_with_keys = pd.concat(\n",
    "    [\n",
    "        n_local_keys_per_phrase.rename(\"n_local_keys\"),\n",
    "        local_keys_per_phrase.rename(\"local_keys\"),\n",
    "        phrases,\n",
    "    ],\n",
    "    axis=1,\n",
    ")\n",
    "phrases_with_cadences = pd.concat(\n",
    "    [\n",
    "        phrase_gpb.cadence.nunique().rename(\"n_cadences\"),\n",
    "        phrase_gpb.cadence.unique()\n",
    "        .rename(\"cadences\")\n",
    "        .map(lambda arr: tuple(e for e in arr if not pd.isnull(e))),\n",
    "        phrases_with_keys,\n",
    "    ],\n",
    "    axis=1,\n",
    ")\n",
    "utils.value_count_df(phrases_with_cadences.n_cadences, counts_column=\"#phrases\")"
   ]
  },
  {
   "cell_type": "code",
   "execution_count": null,
   "id": "1dcb2064",
   "metadata": {},
   "outputs": [],
   "source": [
    "n_cad = (\n",
    "    phrases_with_cadences.groupby(level=\"corpus\")\n",
    "    .n_cadences.value_counts()\n",
    "    .rename(\"counts\")\n",
    "    .reset_index()\n",
    "    .sort_values(\"n_cadences\")\n",
    ")\n",
    "n_cad.n_cadences = n_cad.n_cadences.astype(str)\n",
    "fig = px.bar(\n",
    "    n_cad,\n",
    "    x=\"corpus\",\n",
    "    y=\"counts\",\n",
    "    color=\"n_cadences\",\n",
    "    height=800,\n",
    "    barmode=\"group\",\n",
    "    labels=dict(n_cadences=\"#cadences in a phrase\"),\n",
    "    category_orders=dict(dataset=chronological_corpus_names),\n",
    ")\n",
    "save_figure_as(fig, \"n_cadences_per_phrase_corpuswise_absolute_grouped_bars\")\n",
    "fig.show()"
   ]
  },
  {
   "cell_type": "markdown",
   "id": "01e0c4b9",
   "metadata": {},
   "source": [
    "### Combinations of cadence types for phrases with more than one cadence"
   ]
  },
  {
   "cell_type": "code",
   "execution_count": null,
   "id": "9fdd3995",
   "metadata": {},
   "outputs": [],
   "source": [
    "utils.value_count_df(\n",
    "    phrases_with_cadences[phrases_with_cadences.n_cadences > 1].cadences\n",
    ")"
   ]
  },
  {
   "cell_type": "markdown",
   "id": "1c87b6b8",
   "metadata": {},
   "source": [
    "### Positioning of cadences within phrases"
   ]
  },
  {
   "cell_type": "code",
   "execution_count": null,
   "id": "33f1b5e1",
   "metadata": {},
   "outputs": [],
   "source": [
    "df_rows = []\n",
    "y_position = 0\n",
    "for ix in (\n",
    "    phrases_with_cadences[phrases_with_cadences.n_cadences > 0]\n",
    "    .sort_values(\"duration_qb\")\n",
    "    .index\n",
    "):\n",
    "    df = phrase_segments.loc[ix]\n",
    "    description = str(ix)\n",
    "    if df.cadence.notna().any():\n",
    "        interval = ix[2]\n",
    "        df_rows.append((y_position, interval.length, \"end of phrase\", description))\n",
    "        start_pos = interval.left\n",
    "        cadences = df.loc[df.cadence.notna(), [\"quarterbeats\", \"cadence\"]]\n",
    "        cadences.quarterbeats -= start_pos\n",
    "        for cadence_x, cadence_type in cadences.itertuples(index=False, name=None):\n",
    "            df_rows.append((y_position, cadence_x, cadence_type, description))\n",
    "        y_position += 1\n",
    "    # else:\n",
    "    #    df_rows.append((y_position, pd.NA, pd.NA, description))\n",
    "\n",
    "data = pd.DataFrame(df_rows, columns=[\"phrase_ix\", \"x\", \"marker\", \"description\"])"
   ]
  },
  {
   "cell_type": "code",
   "execution_count": null,
   "id": "c53895e2",
   "metadata": {},
   "outputs": [],
   "source": [
    "fig = px.scatter(\n",
    "    data[data.x.notna()],\n",
    "    x=\"x\",\n",
    "    y=\"phrase_ix\",\n",
    "    color=\"marker\",\n",
    "    hover_name=\"description\",\n",
    "    height=3000,\n",
    "    labels=dict(marker=\"legend\"),\n",
    "    color_discrete_map=plotting.CADENCE_COLORS,\n",
    ")\n",
    "fig.update_traces(marker_size=5)\n",
    "fig.update_yaxes(autorange=\"reversed\")\n",
    "save_figure_as(fig, \"cadence_positions_within_all_phrases\")\n",
    "fig.show()"
   ]
  },
  {
   "cell_type": "markdown",
   "id": "5227e436",
   "metadata": {},
   "source": [
    "## Cadence ultima"
   ]
  },
  {
   "cell_type": "code",
   "execution_count": null,
   "id": "92e124cd",
   "metadata": {},
   "outputs": [],
   "source": [
    "phrase_segments = segmented.get_facet(\"expanded\")\n",
    "cadence_selector = phrase_segments.cadence.notna()\n",
    "missing_chord_selector = phrase_segments.chord.isna()\n",
    "cadence_with_missing_chord_selector = cadence_selector & missing_chord_selector\n",
    "missing = phrase_segments[cadence_with_missing_chord_selector]\n",
    "expanded = ms3.expand_dcml.expand_labels(\n",
    "    phrase_segments[cadence_with_missing_chord_selector],\n",
    "    propagate=False,\n",
    "    chord_tones=True,\n",
    "    skip_checks=True,\n",
    ")\n",
    "phrase_segments.loc[cadence_with_missing_chord_selector] = expanded\n",
    "print(\n",
    "    f\"Ultima harmony missing for {(phrase_segments.cadence.notna() & phrase_segments.bass_note.isna()).sum()} cadence \"\n",
    "    f\"labels.\"\n",
    ")"
   ]
  },
  {
   "cell_type": "markdown",
   "id": "da41e1bc",
   "metadata": {},
   "source": [
    "### Ultimae as Roman numeral"
   ]
  },
  {
   "cell_type": "code",
   "execution_count": null,
   "id": "e0975d6c",
   "metadata": {},
   "outputs": [],
   "source": [
    "def highlight(row, color=\"#ffffb3\"):\n",
    "    if row.counts < 10:\n",
    "        return [None, None, None, None]\n",
    "    else:\n",
    "        return [\"background-color: {color};\"] * 4\n",
    "\n",
    "\n",
    "cadence_counts = all_labels.cadence.value_counts()\n",
    "ultima_root = (\n",
    "    phrase_segments.groupby([\"localkey_is_minor\", \"cadence\"])\n",
    "    .numeral.value_counts()\n",
    "    .rename(\"counts\")\n",
    "    .to_frame()\n",
    "    .reset_index()\n",
    ")\n",
    "ultima_root.localkey_is_minor = ultima_root.localkey_is_minor.map(\n",
    "    {False: \"in major\", True: \"in minor\"}\n",
    ")\n",
    "# ultima_root.style.apply(highlight, axis=1)"
   ]
  },
  {
   "cell_type": "code",
   "execution_count": null,
   "id": "9de65f09",
   "metadata": {},
   "outputs": [],
   "source": [
    "fig = px.pie(\n",
    "    ultima_root,\n",
    "    names=\"numeral\",\n",
    "    values=\"counts\",\n",
    "    facet_row=\"cadence\",\n",
    "    facet_col=\"localkey_is_minor\",\n",
    "    height=1500,\n",
    "    category_orders={\"cadence\": cadence_counts.index},\n",
    ")\n",
    "fig.for_each_annotation(lambda a: a.update(text=a.text.split(\"=\")[-1]))\n",
    "fig.update_traces(textposition=\"inside\", textinfo=\"percent+label\")\n",
    "fig.update_layout(**utils.STD_LAYOUT)\n",
    "save_figure_as(fig, \"ultima_root_distributions_over_cadence_types_maj_min_pies\")\n",
    "fig.show()"
   ]
  },
  {
   "cell_type": "code",
   "execution_count": null,
   "id": "525bac99",
   "metadata": {},
   "outputs": [],
   "source": [
    "# phrase_segments.groupby(level=[0,1,2], group_keys=False).apply(lambda df: df if ((df.cadence == 'PAC') &\n",
    "# (df.numeral == 'V')).any() else None)"
   ]
  },
  {
   "cell_type": "markdown",
   "id": "14fa2c9e",
   "metadata": {},
   "source": [
    "### Ultimae bass note as scale degree"
   ]
  },
  {
   "cell_type": "code",
   "execution_count": null,
   "id": "43db2599",
   "metadata": {},
   "outputs": [],
   "source": [
    "ultima_bass = (\n",
    "    phrase_segments.groupby([\"localkey_is_minor\", \"cadence\"])\n",
    "    .bass_note.value_counts()\n",
    "    .rename(\"counts\")\n",
    "    .reset_index()\n",
    ")\n",
    "ultima_bass.bass_note = ms3.transform(\n",
    "    ultima_bass, ms3.fifths2sd, dict(fifths=\"bass_note\", minor=\"localkey_is_minor\")\n",
    ")\n",
    "ultima_bass.localkey_is_minor = ultima_bass.localkey_is_minor.map(\n",
    "    {False: \"in major\", True: \"in minor\"}\n",
    ")\n",
    "# ultima_bass.style.apply(highlight, axis=1)"
   ]
  },
  {
   "cell_type": "code",
   "execution_count": null,
   "id": "d46aab8c",
   "metadata": {},
   "outputs": [],
   "source": [
    "fig = px.pie(\n",
    "    ultima_bass,\n",
    "    names=\"bass_note\",\n",
    "    values=\"counts\",\n",
    "    facet_row=\"cadence\",\n",
    "    facet_col=\"localkey_is_minor\",\n",
    "    height=1500,\n",
    "    category_orders={\"cadence\": cadence_counts.index},\n",
    ")\n",
    "fig.for_each_annotation(lambda a: a.update(text=a.text.split(\"=\")[-1]))\n",
    "fig.update_traces(textposition=\"inside\", textinfo=\"percent+label\")\n",
    "fig.update_layout(**utils.STD_LAYOUT)\n",
    "save_figure_as(fig, \"ultima_degree_distributions_over_cadence_types_maj_min_pies\")\n",
    "fig.show()"
   ]
  },
  {
   "cell_type": "markdown",
   "id": "9ac1f52b",
   "metadata": {},
   "source": [
    "## Chord progressions"
   ]
  },
  {
   "cell_type": "markdown",
   "id": "8721f1b6",
   "metadata": {},
   "source": [
    "### PACs with ultima I/i"
   ]
  },
  {
   "cell_type": "code",
   "execution_count": null,
   "id": "769b932c",
   "metadata": {},
   "outputs": [],
   "source": [
    "def remove_immediate_duplicates(lst):\n",
    "    return tuple(a for a, b in zip(lst, (None,) + lst) if a != b)\n",
    "\n",
    "\n",
    "def get_progressions(\n",
    "    selected=\"PAC\",\n",
    "    last_row={},\n",
    "    feature=\"chord\",\n",
    "    dataset=None,\n",
    "    as_series=True,\n",
    "    remove_duplicates=False,\n",
    "):\n",
    "    \"\"\"Uses the nonlocal variable phrase_segments.\"\"\"\n",
    "    last_row = {k: v if isinstance(v, tuple) else (v,) for k, v in last_row.items()}\n",
    "    progressions = []\n",
    "\n",
    "    for (corp, fname, *_), df in phrase_segments[\n",
    "        phrase_segments[feature].notna()\n",
    "    ].groupby(level=[0, 1, 2]):\n",
    "        if dataset is not None and dataset not in corp:\n",
    "            continue\n",
    "        if (df.cadence == selected).fillna(False).any():\n",
    "            # remove chords after the last cadence label\n",
    "            df = df[df.cadence.bfill().notna()]\n",
    "            # group segments leading up to a cadence label\n",
    "            cadence_groups = df.cadence.notna().shift().fillna(False).cumsum()\n",
    "            for i, cadence in df.groupby(cadence_groups):\n",
    "                last_r = cadence.iloc[-1]\n",
    "                typ = last_r.cadence\n",
    "                if typ != selected:\n",
    "                    continue\n",
    "                if any(last_r[feat] not in values for feat, values in last_row.items()):\n",
    "                    continue\n",
    "                if remove_duplicates:\n",
    "                    progressions.append(\n",
    "                        remove_immediate_duplicates(cadence[feature].to_list())\n",
    "                    )\n",
    "                else:\n",
    "                    progressions.append(tuple(cadence[feature]))\n",
    "    if as_series:\n",
    "        return pd.Series(progressions, dtype=\"object\")\n",
    "    return progressions"
   ]
  },
  {
   "cell_type": "code",
   "execution_count": null,
   "id": "d41d4977",
   "metadata": {},
   "outputs": [],
   "source": [
    "chord_progressions = get_progressions(\"PAC\", dict(numeral=(\"I\", \"i\")), \"chord\")\n",
    "print(f\"Progressions for {len(chord_progressions)} cadences:\")\n",
    "utils.value_count_df(chord_progressions, \"chord progressions\")"
   ]
  },
  {
   "cell_type": "code",
   "execution_count": null,
   "id": "b196a96b",
   "metadata": {},
   "outputs": [],
   "source": [
    "numeral_progressions = get_progressions(\"PAC\", dict(numeral=(\"I\", \"i\")), \"numeral\")\n",
    "utils.value_count_df(numeral_progressions, \"numeral progressions\")"
   ]
  },
  {
   "cell_type": "code",
   "execution_count": null,
   "id": "55e508f7",
   "metadata": {},
   "outputs": [],
   "source": [
    "numeral_prog_no_dups = numeral_progressions.map(remove_immediate_duplicates)\n",
    "utils.value_count_df(numeral_prog_no_dups)"
   ]
  },
  {
   "cell_type": "markdown",
   "id": "8c6a6ba1",
   "metadata": {},
   "source": [
    "### PACs ending on scale degree 1\n",
    "\n",
    "**Scale degrees expressed w.r.t. major scale, regardless of actual key.**"
   ]
  },
  {
   "cell_type": "code",
   "execution_count": null,
   "id": "e0d8a5fb",
   "metadata": {},
   "outputs": [],
   "source": [
    "bass_progressions = get_progressions(\"PAC\", dict(bass_note=0), \"bass_note\")\n",
    "bass_prog = bass_progressions.map(ms3.fifths2sd)\n",
    "print(f\"Progressions for {len(bass_progressions)} cadences:\")\n",
    "utils.value_count_df(bass_prog, \"bass progressions\")"
   ]
  },
  {
   "cell_type": "code",
   "execution_count": null,
   "id": "112a1de1",
   "metadata": {},
   "outputs": [],
   "source": [
    "bass_prog_no_dups = bass_prog.map(remove_immediate_duplicates)\n",
    "utils.value_count_df(bass_prog_no_dups)"
   ]
  },
  {
   "cell_type": "code",
   "execution_count": null,
   "id": "4a18d073",
   "metadata": {},
   "outputs": [],
   "source": [
    "def progressions2graph_data(progressions, cut_at_stage=None):\n",
    "    stage_nodes = defaultdict(dict)\n",
    "    edge_weights = Counter()\n",
    "    node_counter = 0\n",
    "    for progression in progressions:\n",
    "        previous_node = None\n",
    "        for stage, current in enumerate(reversed(progression)):\n",
    "            if cut_at_stage and stage > cut_at_stage:\n",
    "                break\n",
    "            if current in stage_nodes[stage]:\n",
    "                current_node = stage_nodes[stage][current]\n",
    "            else:\n",
    "                stage_nodes[stage][current] = node_counter\n",
    "                current_node = node_counter\n",
    "                node_counter += 1\n",
    "            if previous_node is not None:\n",
    "                edge_weights.update([(current_node, previous_node)])\n",
    "            previous_node = current_node\n",
    "    return stage_nodes, edge_weights\n",
    "\n",
    "\n",
    "def plot_progressions(progressions, cut_at_stage=None, **kwargs):\n",
    "    stage_nodes, edge_weights = progressions2graph_data(\n",
    "        progressions, cut_at_stage=cut_at_stage\n",
    "    )\n",
    "    return utils.graph_data2sankey(stage_nodes, edge_weights, **kwargs)"
   ]
  },
  {
   "cell_type": "markdown",
   "id": "12d1f33f",
   "metadata": {},
   "source": [
    "#### Chordal roots for the 3 last stages"
   ]
  },
  {
   "cell_type": "code",
   "execution_count": null,
   "id": "8c75b659",
   "metadata": {},
   "outputs": [],
   "source": [
    "fig = plot_progressions(\n",
    "    numeral_prog_no_dups,\n",
    "    cut_at_stage=3,\n",
    "    font=dict(size=30),\n",
    ")\n",
    "save_figure_as(fig, \"last_3_roots_before_pacs_ending_on_1_sankey\", height=800)\n",
    "fig.show()"
   ]
  },
  {
   "cell_type": "markdown",
   "id": "ec5824fc",
   "metadata": {},
   "source": [
    "#### Complete chords for the last four stages in major"
   ]
  },
  {
   "cell_type": "code",
   "execution_count": null,
   "id": "93c95baf",
   "metadata": {},
   "outputs": [],
   "source": [
    "pac_major = get_progressions(\"PAC\", dict(numeral=\"I\", localkey_is_minor=False), \"chord\")\n",
    "fig = plot_progressions(pac_major, cut_at_stage=4)\n",
    "save_figure_as(fig, \"last_4_stages_before_pacs_in_major_sankey\")\n",
    "fig.show()"
   ]
  },
  {
   "cell_type": "markdown",
   "id": "36859e07",
   "metadata": {},
   "source": [
    "#### Bass degrees for the last 6 stages."
   ]
  },
  {
   "cell_type": "code",
   "execution_count": null,
   "id": "b429ef6b",
   "metadata": {},
   "outputs": [],
   "source": [
    "fig = plot_progressions(bass_prog_no_dups, cut_at_stage=7)\n",
    "save_figure_as(fig, \"last_7_degrees_before_pacs_ending_on_1_sankey\")\n",
    "fig.show()"
   ]
  },
  {
   "cell_type": "markdown",
   "id": "e4025f62",
   "metadata": {},
   "source": [
    "#### Bass degrees without accidentals"
   ]
  },
  {
   "cell_type": "code",
   "execution_count": null,
   "id": "859f0f48",
   "metadata": {},
   "outputs": [],
   "source": [
    "def remove_sd_accidentals(t):\n",
    "    return tuple(map(lambda sd: sd[-1], t))\n",
    "\n",
    "\n",
    "bass_prog_no_acc_no_dup = bass_prog.map(remove_sd_accidentals).map(\n",
    "    remove_immediate_duplicates\n",
    ")\n",
    "fig = plot_progressions(bass_prog_no_acc_no_dup, cut_at_stage=7)\n",
    "save_figure_as(fig, \"last_7_degrees_before_pacs_ending_on_1_without_accdentals_sankey\")\n",
    "fig.show()"
   ]
  },
  {
   "cell_type": "markdown",
   "id": "56995889",
   "metadata": {},
   "source": [
    "### HCs ending on V"
   ]
  },
  {
   "cell_type": "code",
   "execution_count": null,
   "id": "c37f91a1",
   "metadata": {},
   "outputs": [],
   "source": [
    "half = get_progressions(\"HC\", dict(numeral=\"V\"), \"bass_note\").map(ms3.fifths2sd)\n",
    "print(f\"Progressions for {len(half)} cadences:\")\n",
    "fig = plot_progressions(half.map(remove_immediate_duplicates), cut_at_stage=5)\n",
    "save_figure_as(fig, \"last_7_degrees_before_hcs_ending_on_V_sankey\")\n",
    "fig.show()"
   ]
  }
 ],
 "metadata": {
  "jupytext": {
   "formats": "md:myst,ipynb,py:percent",
   "text_representation": {
    "extension": ".md",
    "format_name": "myst",
    "format_version": 0.13,
    "jupytext_version": "1.17.0"
   }
  },
  "kernelspec": {
   "display_name": "revamp",
   "language": "python",
   "name": "revamp"
  },
  "language_info": {
   "codemirror_mode": {
    "name": "ipython",
    "version": 3
   },
   "file_extension": ".py",
   "mimetype": "text/x-python",
   "name": "python",
   "nbconvert_exporter": "python",
   "pygments_lexer": "ipython3",
   "version": "3.10.14"
  },
  "source_map": [
   13,
   17,
   39,
   62,
   66,
   84,
   92,
   99,
   103,
   108,
   113,
   118,
   138,
   149,
   154,
   170,
   174,
   201,
   218,
   240,
   274,
   295,
   300,
   329,
   350,
   354,
   358,
   362,
   387,
   402,
   406,
   423,
   427,
   449,
   466,
   469,
   473,
   489,
   504,
   508,
   512,
   557,
   563,
   568,
   571,
   577,
   584,
   589,
   616,
   620,
   628,
   632,
   637,
   641,
   645,
   649,
   660,
   664
  ]
 },
 "nbformat": 4,
 "nbformat_minor": 5
}