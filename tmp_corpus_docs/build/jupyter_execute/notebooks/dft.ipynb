{
 "cells": [
  {
   "cell_type": "markdown",
   "id": "92c4a685",
   "metadata": {},
   "source": [
    "# Notes"
   ]
  },
  {
   "cell_type": "code",
   "execution_count": 1,
   "id": "1af1d122",
   "metadata": {},
   "outputs": [
    {
     "ename": "ModuleNotFoundError",
     "evalue": "No module named 'sklearn'",
     "output_type": "error",
     "traceback": [
      "\u001b[0;31m---------------------------------------------------------------------------\u001b[0m",
      "\u001b[0;31mModuleNotFoundError\u001b[0m                       Traceback (most recent call last)",
      "Cell \u001b[0;32mIn[1], line 7\u001b[0m\n\u001b[1;32m      4\u001b[0m \u001b[38;5;28;01mimport\u001b[39;00m \u001b[38;5;21;01mms3\u001b[39;00m\n\u001b[1;32m      5\u001b[0m \u001b[38;5;28;01mimport\u001b[39;00m \u001b[38;5;21;01mpandas\u001b[39;00m \u001b[38;5;28;01mas\u001b[39;00m \u001b[38;5;21;01mpd\u001b[39;00m\n\u001b[0;32m----> 7\u001b[0m \u001b[38;5;28;01mfrom\u001b[39;00m \u001b[38;5;21;01mutils\u001b[39;00m \u001b[38;5;28;01mimport\u001b[39;00m get_repo_name, resolve_dir\n",
      "File \u001b[0;32m~/git/wagner_overtures/tmp_corpus_docs/notebooks/utils.py:69\u001b[0m\n\u001b[1;32m     67\u001b[0m \u001b[38;5;28;01mfrom\u001b[39;00m \u001b[38;5;21;01mscipy\u001b[39;00m\u001b[38;5;21;01m.\u001b[39;00m\u001b[38;5;21;01mspatial\u001b[39;00m \u001b[38;5;28;01mimport\u001b[39;00m ConvexHull\n\u001b[1;32m     68\u001b[0m \u001b[38;5;28;01mfrom\u001b[39;00m \u001b[38;5;21;01mscipy\u001b[39;00m\u001b[38;5;21;01m.\u001b[39;00m\u001b[38;5;21;01mstats\u001b[39;00m \u001b[38;5;28;01mimport\u001b[39;00m entropy\n\u001b[0;32m---> 69\u001b[0m \u001b[38;5;28;01mfrom\u001b[39;00m \u001b[38;5;21;01msklearn\u001b[39;00m \u001b[38;5;28;01mimport\u001b[39;00m set_config\n\u001b[1;32m     70\u001b[0m \u001b[38;5;28;01mfrom\u001b[39;00m \u001b[38;5;21;01msklearn\u001b[39;00m\u001b[38;5;21;01m.\u001b[39;00m\u001b[38;5;21;01mdecomposition\u001b[39;00m \u001b[38;5;28;01mimport\u001b[39;00m PCA\n\u001b[1;32m     71\u001b[0m \u001b[38;5;28;01mfrom\u001b[39;00m \u001b[38;5;21;01msklearn\u001b[39;00m\u001b[38;5;21;01m.\u001b[39;00m\u001b[38;5;21;01mdiscriminant_analysis\u001b[39;00m \u001b[38;5;28;01mimport\u001b[39;00m LinearDiscriminantAnalysis\n",
      "\u001b[0;31mModuleNotFoundError\u001b[0m: No module named 'sklearn'"
     ]
    }
   ],
   "source": [
    "import os\n",
    "from git import Repo\n",
    "import dimcat as dc\n",
    "import ms3\n",
    "import pandas as pd\n",
    "\n",
    "from utils import get_repo_name, resolve_dir"
   ]
  },
  {
   "cell_type": "code",
   "execution_count": null,
   "id": "30143f45",
   "metadata": {},
   "outputs": [],
   "source": [
    "from utils import OUTPUT_FOLDER\n",
    "from dimcat.plotting import write_image\n",
    "RESULTS_PATH = os.path.abspath(os.path.join(OUTPUT_FOLDER, \"dft\"))\n",
    "os.makedirs(RESULTS_PATH, exist_ok=True)\n",
    "def save_figure_as(fig, filename, directory=RESULTS_PATH, **kwargs):\n",
    "    write_image(fig, filename, directory, **kwargs)"
   ]
  },
  {
   "cell_type": "code",
   "execution_count": null,
   "id": "e09d6055",
   "metadata": {},
   "outputs": [],
   "source": [
    "CORPUS_PATH = \"~/git/meta_repositories/debussy_piano\"\n",
    "print(f\"CORPUS_PATH: '{CORPUS_PATH}'\")\n",
    "CORPUS_PATH = resolve_dir(CORPUS_PATH)"
   ]
  },
  {
   "cell_type": "code",
   "execution_count": null,
   "id": "6ebe2276",
   "metadata": {},
   "outputs": [],
   "source": [
    "repo = Repo(CORPUS_PATH)\n",
    "notebook_repo = Repo('.', search_parent_directories=True)\n",
    "print(f\"Notebook repository '{get_repo_name(notebook_repo)}' @ {notebook_repo.commit().hexsha[:7]}\")\n",
    "print(f\"Data repo '{get_repo_name(CORPUS_PATH)}' @ {repo.commit().hexsha[:7]}\")\n",
    "print(f\"dimcat version {dc.__version__}\")\n",
    "print(f\"ms3 version {ms3.__version__}\")"
   ]
  },
  {
   "cell_type": "markdown",
   "id": "7b646d31",
   "metadata": {},
   "source": [
    "## Data loading\n",
    "\n",
    "### Detected files"
   ]
  },
  {
   "cell_type": "code",
   "execution_count": null,
   "id": "d5f03056",
   "metadata": {},
   "outputs": [],
   "source": [
    "dataset = dc.Dataset()\n",
    "dataset.load(directory=CORPUS_PATH)\n",
    "dataset.data"
   ]
  },
  {
   "cell_type": "code",
   "execution_count": null,
   "id": "5a75a18a",
   "metadata": {},
   "outputs": [],
   "source": [
    "print(f\"N = {dataset.data.count_pieces()} annotated pieces.\")"
   ]
  },
  {
   "cell_type": "markdown",
   "id": "47604fed",
   "metadata": {},
   "source": [
    "## Metadata"
   ]
  },
  {
   "cell_type": "code",
   "execution_count": null,
   "id": "6351bc38",
   "metadata": {},
   "outputs": [],
   "source": [
    "all_metadata = dataset.data.metadata()\n",
    "print(f\"Concatenated 'metadata.tsv' files cover {len(all_metadata)} of the {dataset.data.count_pieces()} scores.\")\n",
    "all_metadata.reset_index(level=1).groupby(level=0).nth(0).iloc[:,:20]"
   ]
  },
  {
   "cell_type": "code",
   "execution_count": null,
   "id": "2d4f2d92",
   "metadata": {},
   "outputs": [],
   "source": [
    "pcvs = dc.Pipeline([\n",
    "    dc.NoteSlicer(quarters_per_slice=1.0),\n",
    "    dc.PitchClassVectors(\n",
    "        pitch_class_format=\"pc\",\n",
    "        weight_grace_durations=0.5)\n",
    "]).process_data(dataset)"
   ]
  },
  {
   "cell_type": "code",
   "execution_count": null,
   "id": "141d8b6b",
   "metadata": {},
   "outputs": [],
   "source": [
    "P = pcvs.get().fillna(0.0)\n",
    "P"
   ]
  },
  {
   "cell_type": "code",
   "execution_count": null,
   "id": "c579993c",
   "metadata": {},
   "outputs": [],
   "source": [
    "import numpy as np\n",
    "\n",
    "def apply_dft_to_pitch_class_matrix(pc_mat, build_utm = True, long=False):\n",
    "    \"\"\"\n",
    "    This functions takes a list of N pitch class distributions,\n",
    "    modelised by a matrix of float numbers, and apply the\n",
    "    DFT individually to all the pitch class distributions.\n",
    "\n",
    "    Parameters\n",
    "    ----------\n",
    "    pc_mat: numpy matrix of shape (N, 12) (numpy.ndarray of numpy.float64)\n",
    "        holds the pitch class distribution of all slice of a minimum temporal size.\n",
    "    build_utm: bool, optional\n",
    "        indicates whether the resulting list of DFT results need to be built into an upper\n",
    "        triangle matrix representing all hierarchical levels possible from the original musical piece.\n",
    "        As the DFT is linear, the computation of all hierarchical levels can be done at a later sate,\n",
    "        thus saving some space (O(n) instead of O(n^2)).\n",
    "        Default value is True.\n",
    "    long : bool, optional\n",
    "        By default, if `build_utm`, the upper triangle matrix will be returned as a square matrix\n",
    "        where the lower left triangle beneath the diagonal is filled with zeros.\n",
    "        Pass True to obtain the UTM in long format instead.\n",
    "\n",
    "    Returns\n",
    "    -------\n",
    "    numpy matrix (numpy.ndarray of numpy.complex128)\n",
    "        according to the parameters 'build_utm', either a Nx7 complex number matrix being\n",
    "        the converted input matrix of pitch class distribution\n",
    "        transformed into Fourier coefficient, or a NxNx7 complex number\n",
    "        upper triangle matrix being the fourier coefficient obtained from all\n",
    "        possible slices of the original musical piece.\n",
    "    \"\"\"\n",
    "    pcv_nmb, pc_nmb = np.shape(pc_mat)\n",
    "    #+1 to hold room for the 0th coefficient\n",
    "    coeff_nmb = int(pc_nmb/2)+1\n",
    "    res = np.fft.fft(pc_mat)[:, :coeff_nmb] #coeff 7 to 11 are uninteresting (conjugates of coeff 6 to 1).\n",
    "    return res"
   ]
  },
  {
   "cell_type": "code",
   "execution_count": null,
   "id": "a7214d2d",
   "metadata": {},
   "outputs": [],
   "source": [
    "df = pd.DataFrame(apply_dft_to_pitch_class_matrix(P), index=P.index).sort_index()\n",
    "sample = df.sample(5)\n",
    "sample"
   ]
  },
  {
   "cell_type": "code",
   "execution_count": null,
   "id": "be3f2bb0",
   "metadata": {},
   "outputs": [],
   "source": [
    "print(sample.style.format(precision=2).to_latex())"
   ]
  },
  {
   "cell_type": "code",
   "execution_count": null,
   "id": "24a7c59d",
   "metadata": {},
   "outputs": [],
   "source": [
    "print(sample.style.to_latex())"
   ]
  },
  {
   "cell_type": "code",
   "execution_count": null,
   "id": "fcd4d379",
   "metadata": {},
   "outputs": [],
   "source": []
  },
  {
   "cell_type": "code",
   "execution_count": null,
   "id": "0d9db94b",
   "metadata": {},
   "outputs": [],
   "source": [
    "def comp2str(c, dec=2):\n",
    "    \"\"\"Interpret a complex number as magnitude and phase and convert into a human-readable string.\"\"\"\n",
    "    magn = np.round(abs(c), dec)\n",
    "    ang = -round(np.angle(c, True)) % 360\n",
    "    return f\"{magn}+{ang}°\"\n",
    "\n",
    "\n",
    "comp2str_vec = np.vectorize(comp2str)"
   ]
  },
  {
   "cell_type": "code",
   "execution_count": null,
   "id": "1eb45b4f",
   "metadata": {},
   "outputs": [],
   "source": [
    "comp2str_vec(apply_dft_to_pitch_class_matrix(P))"
   ]
  }
 ],
 "metadata": {
  "jupytext": {
   "formats": "md:myst,ipynb",
   "text_representation": {
    "extension": ".md",
    "format_name": "myst",
    "format_version": 0.13,
    "jupytext_version": "1.16.4"
   }
  },
  "kernelspec": {
   "display_name": "corpus_docs",
   "language": "python",
   "name": "corpus_docs"
  },
  "language_info": {
   "codemirror_mode": {
    "name": "ipython",
    "version": 3
   },
   "file_extension": ".py",
   "mimetype": "text/x-python",
   "name": "python",
   "nbconvert_exporter": "python",
   "pygments_lexer": "ipython3",
   "version": "3.11.5"
  },
  "source_map": [
   13,
   17,
   27,
   36,
   42,
   49,
   55,
   61,
   63,
   67,
   73,
   82,
   87,
   127,
   133,
   137,
   141,
   145,
   156
  ]
 },
 "nbformat": 4,
 "nbformat_minor": 5
}